{
 "cells": [
  {
   "cell_type": "markdown",
   "id": "severe-memphis",
   "metadata": {},
   "source": [
    "# Final Midterm \n",
    "\n",
    "Maria van Venrooy\n",
    "\n",
    "## Societal Problem - Plastic Pollution \n",
    "\n",
    "According to the Ocean Conservancy, \"an endless flow of trash into the ocean will affecct the health of humans and wildlife alike as well as compromise the livelihoods that depend on a healthy ocean\". The effects of plastic pollution are sever and far reaching, and learning more about the types of objects that end up in the waterways can help us better understand and combat the problem.\n",
    "\n",
    "Source: https://oceanconservancy.org/blog/2016/08/22/the-problem-of-ocean-trash/\n",
    "\n",
    "## Data set: Delaware Coastal Cleanup Results\n",
    "\n",
    "The \"Delaware Coastal Cleanup Results\" dataset from Open Data Delaware gives details on cleanups which have occured all across Delaware from 2008 to 2018. This dataset is especially valuable in that it includes exact statistics on what was collected at each cleanup. Categories of items include plastic bottles, plastic straws, fishing line, balloons, appliances, and much more. "
   ]
  },
  {
   "cell_type": "code",
   "execution_count": 2,
   "id": "manual-amplifier",
   "metadata": {},
   "outputs": [
    {
     "data": {
      "text/html": [
       "<div>\n",
       "<style scoped>\n",
       "    .dataframe tbody tr th:only-of-type {\n",
       "        vertical-align: middle;\n",
       "    }\n",
       "\n",
       "    .dataframe tbody tr th {\n",
       "        vertical-align: top;\n",
       "    }\n",
       "\n",
       "    .dataframe thead th {\n",
       "        text-align: right;\n",
       "    }\n",
       "</style>\n",
       "<table border=\"1\" class=\"dataframe\">\n",
       "  <thead>\n",
       "    <tr style=\"text-align: right;\">\n",
       "      <th></th>\n",
       "      <th>County</th>\n",
       "      <th>Location Lat-Long</th>\n",
       "      <th>Cleanup Type</th>\n",
       "      <th>Cleanup Date</th>\n",
       "      <th>Cleanup Site</th>\n",
       "      <th>Adults</th>\n",
       "      <th>Children</th>\n",
       "      <th>People</th>\n",
       "      <th>Pounds</th>\n",
       "      <th>Miles</th>\n",
       "      <th>...</th>\n",
       "      <th>Tampons/Tampon Applicators</th>\n",
       "      <th>Foam Pieces</th>\n",
       "      <th>Glass Pieces</th>\n",
       "      <th>Plastic Pieces</th>\n",
       "      <th>Clothing, Shoes</th>\n",
       "      <th>Shotgun Shells/Wadding</th>\n",
       "      <th>Light Bulbs/Tubes</th>\n",
       "      <th>Batteries</th>\n",
       "      <th>Cars/Car Parts</th>\n",
       "      <th>55-Gallon Drums</th>\n",
       "    </tr>\n",
       "  </thead>\n",
       "  <tbody>\n",
       "    <tr>\n",
       "      <th>0</th>\n",
       "      <td>Kent</td>\n",
       "      <td>(39.102739, -75.402356)</td>\n",
       "      <td>Beach</td>\n",
       "      <td>09/20/2008</td>\n",
       "      <td>Kitts Hummock</td>\n",
       "      <td>NaN</td>\n",
       "      <td>NaN</td>\n",
       "      <td>45</td>\n",
       "      <td>1500.0</td>\n",
       "      <td>1.0</td>\n",
       "      <td>...</td>\n",
       "      <td>15.0</td>\n",
       "      <td>NaN</td>\n",
       "      <td>NaN</td>\n",
       "      <td>NaN</td>\n",
       "      <td>11.0</td>\n",
       "      <td>70.0</td>\n",
       "      <td>1.0</td>\n",
       "      <td>NaN</td>\n",
       "      <td>4.0</td>\n",
       "      <td>3.0</td>\n",
       "    </tr>\n",
       "    <tr>\n",
       "      <th>1</th>\n",
       "      <td>Kent</td>\n",
       "      <td>(39.085748, -75.421875)</td>\n",
       "      <td>Beach</td>\n",
       "      <td>09/20/2008</td>\n",
       "      <td>Ted Harvey WLA/ Ted Harvey Wildlife Area</td>\n",
       "      <td>NaN</td>\n",
       "      <td>NaN</td>\n",
       "      <td>45</td>\n",
       "      <td>165.0</td>\n",
       "      <td>2.0</td>\n",
       "      <td>...</td>\n",
       "      <td>NaN</td>\n",
       "      <td>NaN</td>\n",
       "      <td>NaN</td>\n",
       "      <td>NaN</td>\n",
       "      <td>4.0</td>\n",
       "      <td>33.0</td>\n",
       "      <td>2.0</td>\n",
       "      <td>NaN</td>\n",
       "      <td>NaN</td>\n",
       "      <td>NaN</td>\n",
       "    </tr>\n",
       "    <tr>\n",
       "      <th>2</th>\n",
       "      <td>New Castle</td>\n",
       "      <td>(39.738765, -75.53939)</td>\n",
       "      <td>Beach</td>\n",
       "      <td>09/20/2008</td>\n",
       "      <td>E. 7th Street - Barbiarz Park</td>\n",
       "      <td>NaN</td>\n",
       "      <td>NaN</td>\n",
       "      <td>18</td>\n",
       "      <td>180.0</td>\n",
       "      <td>1.0</td>\n",
       "      <td>...</td>\n",
       "      <td>NaN</td>\n",
       "      <td>NaN</td>\n",
       "      <td>NaN</td>\n",
       "      <td>NaN</td>\n",
       "      <td>20.0</td>\n",
       "      <td>NaN</td>\n",
       "      <td>2.0</td>\n",
       "      <td>4.0</td>\n",
       "      <td>3.0</td>\n",
       "      <td>NaN</td>\n",
       "    </tr>\n",
       "    <tr>\n",
       "      <th>3</th>\n",
       "      <td>New Castle</td>\n",
       "      <td>(39.664715, -75.557785)</td>\n",
       "      <td>Beach</td>\n",
       "      <td>09/20/2008</td>\n",
       "      <td>Battery Park</td>\n",
       "      <td>NaN</td>\n",
       "      <td>NaN</td>\n",
       "      <td>51</td>\n",
       "      <td>892.0</td>\n",
       "      <td>0.5</td>\n",
       "      <td>...</td>\n",
       "      <td>48.0</td>\n",
       "      <td>NaN</td>\n",
       "      <td>NaN</td>\n",
       "      <td>NaN</td>\n",
       "      <td>37.0</td>\n",
       "      <td>12.0</td>\n",
       "      <td>2.0</td>\n",
       "      <td>0.0</td>\n",
       "      <td>19.0</td>\n",
       "      <td>0.0</td>\n",
       "    </tr>\n",
       "    <tr>\n",
       "      <th>4</th>\n",
       "      <td>New Castle</td>\n",
       "      <td>(39.504724, -75.580976)</td>\n",
       "      <td>Beach</td>\n",
       "      <td>09/20/2008</td>\n",
       "      <td>Augustine Beach Boat Ramp</td>\n",
       "      <td>NaN</td>\n",
       "      <td>NaN</td>\n",
       "      <td>70</td>\n",
       "      <td>2200.0</td>\n",
       "      <td>1.0</td>\n",
       "      <td>...</td>\n",
       "      <td>5.0</td>\n",
       "      <td>NaN</td>\n",
       "      <td>NaN</td>\n",
       "      <td>NaN</td>\n",
       "      <td>14.0</td>\n",
       "      <td>NaN</td>\n",
       "      <td>NaN</td>\n",
       "      <td>NaN</td>\n",
       "      <td>2.0</td>\n",
       "      <td>NaN</td>\n",
       "    </tr>\n",
       "  </tbody>\n",
       "</table>\n",
       "<p>5 rows × 59 columns</p>\n",
       "</div>"
      ],
      "text/plain": [
       "       County        Location Lat-Long Cleanup Type Cleanup Date  \\\n",
       "0        Kent  (39.102739, -75.402356)        Beach   09/20/2008   \n",
       "1        Kent  (39.085748, -75.421875)        Beach   09/20/2008   \n",
       "2  New Castle   (39.738765, -75.53939)        Beach   09/20/2008   \n",
       "3  New Castle  (39.664715, -75.557785)        Beach   09/20/2008   \n",
       "4  New Castle  (39.504724, -75.580976)        Beach   09/20/2008   \n",
       "\n",
       "                               Cleanup Site  Adults  Children  People  Pounds  \\\n",
       "0                             Kitts Hummock     NaN       NaN      45  1500.0   \n",
       "1  Ted Harvey WLA/ Ted Harvey Wildlife Area     NaN       NaN      45   165.0   \n",
       "2             E. 7th Street - Barbiarz Park     NaN       NaN      18   180.0   \n",
       "3                              Battery Park     NaN       NaN      51   892.0   \n",
       "4                 Augustine Beach Boat Ramp     NaN       NaN      70  2200.0   \n",
       "\n",
       "   Miles  ...  Tampons/Tampon Applicators  Foam Pieces  Glass Pieces  \\\n",
       "0    1.0  ...                        15.0          NaN           NaN   \n",
       "1    2.0  ...                         NaN          NaN           NaN   \n",
       "2    1.0  ...                         NaN          NaN           NaN   \n",
       "3    0.5  ...                        48.0          NaN           NaN   \n",
       "4    1.0  ...                         5.0          NaN           NaN   \n",
       "\n",
       "   Plastic Pieces  Clothing, Shoes  Shotgun Shells/Wadding  Light Bulbs/Tubes  \\\n",
       "0             NaN             11.0                    70.0                1.0   \n",
       "1             NaN              4.0                    33.0                2.0   \n",
       "2             NaN             20.0                     NaN                2.0   \n",
       "3             NaN             37.0                    12.0                2.0   \n",
       "4             NaN             14.0                     NaN                NaN   \n",
       "\n",
       "   Batteries  Cars/Car Parts  55-Gallon Drums  \n",
       "0        NaN             4.0              3.0  \n",
       "1        NaN             NaN              NaN  \n",
       "2        4.0             3.0              NaN  \n",
       "3        0.0            19.0              0.0  \n",
       "4        NaN             2.0              NaN  \n",
       "\n",
       "[5 rows x 59 columns]"
      ]
     },
     "execution_count": 2,
     "metadata": {},
     "output_type": "execute_result"
    }
   ],
   "source": [
    "import pandas as pd \n",
    "import numpy as np\n",
    "import matplotlib.pyplot as plt\n",
    "\n",
    "df = pd.read_csv(\"Delaware_Coastal_Cleanup_Results.csv\") \n",
    "    \n",
    "df.head()"
   ]
  },
  {
   "cell_type": "code",
   "execution_count": 3,
   "id": "loose-influence",
   "metadata": {},
   "outputs": [
    {
     "data": {
      "text/plain": [
       "09/16/2017    47\n",
       "09/19/2015    46\n",
       "09/17/2016    46\n",
       "09/20/2014    45\n",
       "09/14/2019    44\n",
       "09/21/2013    42\n",
       "09/22/2018    39\n",
       "09/17/2011    37\n",
       "09/15/2012    37\n",
       "09/25/2010    35\n",
       "09/19/2009    34\n",
       "09/20/2008    30\n",
       "09/15/2017     1\n",
       "10/04/2008     1\n",
       "06/18/2010     1\n",
       "09/13/2014     1\n",
       "09/12/2009     1\n",
       "10/10/2012     1\n",
       "09/24/2016     1\n",
       "09/27/2015     1\n",
       "09/18/2011     1\n",
       "11/12/2008     1\n",
       "09/13/2019     1\n",
       "09/16/2016     1\n",
       "Name: Cleanup Date, dtype: int64"
      ]
     },
     "execution_count": 3,
     "metadata": {},
     "output_type": "execute_result"
    }
   ],
   "source": [
    "df[\"Cleanup Date\"].value_counts()"
   ]
  },
  {
   "cell_type": "markdown",
   "id": "killing-differential",
   "metadata": {},
   "source": [
    "From 2008 to 2019 there's a big cleanup day in September at lots of different locations, and a few other days scattered about at individual sites"
   ]
  },
  {
   "cell_type": "markdown",
   "id": "local-wallet",
   "metadata": {},
   "source": [
    "## Question - Has the amount of smoking-related trash collected during DE cleanups decreased as smoking in Delaware has decreased?\n",
    "\n",
    "In the United States, the cigarette smoking rate has decreased from 29.10% in 2007 to 25.10% in 2018 (MacroTrends.net). The years included in the cleanup data are from 2008 to 2018. Due to the nationwide decrease in smoking, I would expect that the amount of smoking-related trash found during cleanups to decrease. Smoking-related trash includes cigarette butts, tobacco packaging, tobacco wrap, cigar tips, and cigarette lighters. \n",
    "\n",
    "If the amount of smoking-related trash has decreased as the rate of smoking decreased, this would show that changes to consumer habits (potentially) result in changes to the amount of trash found during cleanups.\n",
    "\n",
    "Source: https://www.macrotrends.net/countries/USA/united-states/smoking-rate-statistics\n",
    "\n",
    "### Number of Smoking-related Items over time"
   ]
  },
  {
   "cell_type": "code",
   "execution_count": 4,
   "id": "legal-webster",
   "metadata": {},
   "outputs": [],
   "source": [
    "allCols = list(df)"
   ]
  },
  {
   "cell_type": "code",
   "execution_count": 5,
   "id": "administrative-religion",
   "metadata": {},
   "outputs": [],
   "source": [
    "#Smoking related: 'Cigarette Butts', 'Tobacco Packaging/Wrap', 'Cigar Tips', 'Cigarette Lighters'\n",
    "smokingdf = df[['Cleanup Date','Cigarette Butts', 'Tobacco Packaging/Wrap', 'Cigar Tips', 'Cigarette Lighters']];\n"
   ]
  },
  {
   "cell_type": "code",
   "execution_count": 6,
   "id": "current-quebec",
   "metadata": {},
   "outputs": [
    {
     "name": "stderr",
     "output_type": "stream",
     "text": [
      "<ipython-input-6-125b3f6ee527>:3: SettingWithCopyWarning: \n",
      "A value is trying to be set on a copy of a slice from a DataFrame.\n",
      "Try using .loc[row_indexer,col_indexer] = value instead\n",
      "\n",
      "See the caveats in the documentation: https://pandas.pydata.org/pandas-docs/stable/user_guide/indexing.html#returning-a-view-versus-a-copy\n",
      "  smokingdf['total smoking items'] = totalsmoke;\n"
     ]
    }
   ],
   "source": [
    "listOfSmokingColumns = ['Cigarette Butts', 'Tobacco Packaging/Wrap', 'Cigar Tips', 'Cigarette Lighters'];\n",
    "totalsmoke = df[listOfSmokingColumns].sum(axis=1);\n",
    "smokingdf['total smoking items'] = totalsmoke;\n"
   ]
  },
  {
   "cell_type": "code",
   "execution_count": 22,
   "id": "honest-foster",
   "metadata": {},
   "outputs": [],
   "source": [
    "#Total amount of smoking related items found on cleanup day each day\n",
    "\n",
    "smoke08 = smokingdf[smokingdf['Cleanup Date'] == '09/20/2008'];\n",
    "smoke08 = smoke08['total smoking items'].sum();\n",
    "\n",
    "smoke09 = smokingdf[smokingdf['Cleanup Date'] == '09/19/2009'];\n",
    "smoke09 = smoke09['total smoking items'].sum();\n",
    "\n",
    "smoke10 = smokingdf[smokingdf['Cleanup Date'] == '09/25/2010'];\n",
    "smoke10 = smoke10['total smoking items'].sum();\n",
    "\n",
    "smoke11 = smokingdf[smokingdf['Cleanup Date'] == '09/17/2011'];\n",
    "smoke11 = smoke11['total smoking items'].sum();\n",
    "\n",
    "smoke12 = smokingdf[smokingdf['Cleanup Date'] == '09/15/2012'];\n",
    "smoke12 = smoke12['total smoking items'].sum();\n",
    "\n",
    "smoke13 = smokingdf[smokingdf['Cleanup Date'] == '09/21/2013'];\n",
    "smoke13 = smoke13['total smoking items'].sum();\n",
    "\n",
    "smoke14 = smokingdf[smokingdf['Cleanup Date'] == '09/20/2014'];\n",
    "smoke14 = smoke14['total smoking items'].sum();\n",
    "\n",
    "smoke15 = smokingdf[smokingdf['Cleanup Date'] == '09/19/2015'];\n",
    "smoke15 = smoke15['total smoking items'].sum();\n",
    "\n",
    "smoke16 = smokingdf[smokingdf['Cleanup Date'] == '09/17/2016'];\n",
    "smoke16 = smoke16['total smoking items'].sum();\n",
    "\n",
    "smoke17 = smokingdf[smokingdf['Cleanup Date'] == '09/16/2017'];\n",
    "smoke17 = smoke17['total smoking items'].sum();\n",
    "\n",
    "smoke18 = smokingdf[smokingdf['Cleanup Date'] == '09/22/2018'];\n",
    "smoke18 = smoke18['total smoking items'].sum();\n",
    "\n",
    "smokeyeartotals = [smoke08,smoke09,smoke10,smoke11,smoke12,smoke13,smoke14,smoke15,smoke16,smoke17,smoke18]\n",
    "smokeyears = [2008,2009,2010,2011,2012,2013,2014,2015,2016,2017,2018]\n",
    "\n",
    "#df1 = pd.DataFrame(smokeyears);\n",
    "#df2 = pd.DataFrame(smokeyeartotals)\n",
    "\n",
    "smoketotalsdfunt = pd.DataFrame([smokeyears,smokeyeartotals]);\n",
    "smoketotalsdf = smoketotalsdfunt.T;\n",
    "smoketotalsdf.columns = ['Year', 'Number Of Smoking Items']\n"
   ]
  },
  {
   "cell_type": "code",
   "execution_count": 23,
   "id": "tamil-liberia",
   "metadata": {},
   "outputs": [
    {
     "data": {
      "text/plain": [
       "[<matplotlib.lines.Line2D at 0x1df879c0100>]"
      ]
     },
     "execution_count": 23,
     "metadata": {},
     "output_type": "execute_result"
    },
    {
     "data": {
      "image/png": "[encoded data removed]",
      "text/plain": [
       "<Figure size 432x288 with 1 Axes>"
      ]
     },
     "metadata": {
      "needs_background": "light"
     },
     "output_type": "display_data"
    }
   ],
   "source": [
    "%matplotlib inline\n",
    "\n",
    "x = smoketotalsdf['Year'];\n",
    "y = smoketotalsdf['Number Of Smoking Items']\n",
    "\n",
    "model = np.polyfit(x,y,1)\n",
    "\n",
    "predict = np.poly1d(model)\n",
    "x_lin_reg = range(2008,2019)\n",
    "y_lin_reg = predict(x_lin_reg)\n",
    "plt.scatter(x,y);\n",
    "plt.plot(x_lin_reg, y_lin_reg, c = 'r')\n",
    "\n",
    "\n",
    "#Source referenced:\n",
    "#https://data36.com/linear-regression-in-python-numpy-polyfit/"
   ]
  },
  {
   "cell_type": "code",
   "execution_count": 24,
   "id": "embedded-benefit",
   "metadata": {},
   "outputs": [
    {
     "name": "stdout",
     "output_type": "stream",
     "text": [
      "Mean absolute error:  3603.8082644627957\n",
      "R-squared:  0.04185325832338582\n"
     ]
    }
   ],
   "source": [
    "import sklearn.metrics as metrics\n",
    "yhat = [predict(2008),predict(2009),predict(2010),predict(2011),predict(2012),predict(2013),predict(2014),predict(2015),predict(2016),predict(2017),predict(2018)]\n",
    "\n",
    "mae = metrics.mean_absolute_error(y,yhat);\n",
    "print(\"Mean absolute error: \",mae);\n",
    "\n",
    "r2 = metrics.r2_score(y,yhat);\n",
    "print(\"R-squared: \", r2);"
   ]
  },
  {
   "cell_type": "markdown",
   "id": "incomplete-proceeding",
   "metadata": {},
   "source": [
    "R-squared is 4%, so only 4% of the data fits in the model, so we can't draw any conclusions from this analysis. There is no apparent trend in the number of smoking-related items.\n",
    "\n",
    "Now, let's see if there is a trend in the percent of items that are smoking related.\n",
    "\n",
    "### Percentage of Smoking-related Items over time"
   ]
  },
  {
   "cell_type": "code",
   "execution_count": 25,
   "id": "stupid-enough",
   "metadata": {},
   "outputs": [],
   "source": [
    "\n",
    "alltrashcols = [\n",
    " 'Cigarette Butts',\n",
    " 'Food Wrappers',\n",
    " 'Take Out/Away Containers (Plastic)',\n",
    " 'Take Out/Away Containers (Foam)',\n",
    " 'Bottle Caps (Plastic)',\n",
    " 'Bottle Caps (Metal)',\n",
    " 'Lids (Plastic)',\n",
    " 'Straws, Stirrers',\n",
    " 'Forks, Knives, Spoons',\n",
    " 'Beverage Bottles (Plastic)',\n",
    " 'Beverage Bottles (Glass)',\n",
    " 'Beverage Cans',\n",
    " 'Grocery Bags (Plastic)',\n",
    " 'Other Plastic Bags',\n",
    " 'Paper Bags',\n",
    " 'Cups, Plates (Paper)',\n",
    " 'Cups, Plates (Plastic)',\n",
    " 'Cups, Plates (Foam)',\n",
    " 'Fishing Buoys, Pots & Traps',\n",
    " 'Fishing Net & Pieces',\n",
    " 'Fishing Line',\n",
    " 'Rope',\n",
    " '6-Pack Holders',\n",
    " 'Other Plastic/Foam Packaging',\n",
    " 'Other Plastic Bottles',\n",
    " 'Strapping Bands',\n",
    " 'Tobacco Packaging/Wrap',\n",
    " 'Appliances',\n",
    " 'Balloons',\n",
    " 'Cigar Tips',\n",
    " 'Cigarette Lighters',\n",
    " 'Construction Materials',\n",
    " 'Fireworks',\n",
    " 'Tires',\n",
    " 'Toys',\n",
    " 'Condoms',\n",
    " 'Diapers',\n",
    " 'Syringes',\n",
    " 'Tampons/Tampon Applicators',\n",
    " 'Foam Pieces',\n",
    " 'Glass Pieces',\n",
    " 'Plastic Pieces',\n",
    " 'Clothing, Shoes',\n",
    " 'Shotgun Shells/Wadding',\n",
    " 'Light Bulbs/Tubes',\n",
    " 'Batteries',\n",
    " 'Cars/Car Parts',\n",
    " '55-Gallon Drums'];"
   ]
  },
  {
   "cell_type": "code",
   "execution_count": 26,
   "id": "rapid-label",
   "metadata": {},
   "outputs": [],
   "source": [
    "smokebyperc = df;\n",
    "\n",
    "#alltrash08df = smokebyperc.loc[smokebyperc['Cleanup Date'] == '09/20/2008']\n",
    "alltrash =  smokebyperc[alltrashcols].sum(axis=1);"
   ]
  },
  {
   "cell_type": "code",
   "execution_count": 45,
   "id": "gentle-transparency",
   "metadata": {},
   "outputs": [
    {
     "data": {
      "text/plain": [
       "[65317.0,\n",
       " 58137.0,\n",
       " 28145.0,\n",
       " 64596.0,\n",
       " 40644.0,\n",
       " 65904.0,\n",
       " 69231.0,\n",
       " 64301.0,\n",
       " 53296.0,\n",
       " 59285.0,\n",
       " 52787.0]"
      ]
     },
     "execution_count": 45,
     "metadata": {},
     "output_type": "execute_result"
    }
   ],
   "source": [
    "smokebyperc['all trash num'] = alltrash;\n",
    "\n",
    "smokebyperc\n",
    "\n",
    "alltrash08 = smokebyperc[smokebyperc['Cleanup Date'] == '09/20/2008'];\n",
    "alltrash08 = alltrash08['all trash num'].sum();\n",
    "\n",
    "alltrash09 = smokebyperc[smokebyperc['Cleanup Date'] == '09/19/2009'];\n",
    "alltrash09 = alltrash09['all trash num'].sum();\n",
    "\n",
    "alltrash10 = smokebyperc[smokebyperc['Cleanup Date'] == '09/25/2010'];\n",
    "alltrash10 = alltrash10['all trash num'].sum();\n",
    "\n",
    "alltrash11 = smokebyperc[smokebyperc['Cleanup Date'] == '09/17/2011'];\n",
    "alltrash11 = alltrash11['all trash num'].sum();\n",
    "\n",
    "alltrash12 = smokebyperc[smokebyperc['Cleanup Date'] == '09/15/2012'];\n",
    "alltrash12 = alltrash12['all trash num'].sum();\n",
    "\n",
    "alltrash13 = smokebyperc[smokebyperc['Cleanup Date'] == '09/21/2013'];\n",
    "alltrash13 = alltrash13['all trash num'].sum();\n",
    "\n",
    "alltrash14 = smokebyperc[smokebyperc['Cleanup Date'] == '09/20/2014'];\n",
    "alltrash14 = alltrash14['all trash num'].sum();\n",
    "\n",
    "alltrash15 = smokebyperc[smokebyperc['Cleanup Date'] == '09/19/2015'];\n",
    "alltrash15 = alltrash15['all trash num'].sum();\n",
    "\n",
    "alltrash16 = smokebyperc[smokebyperc['Cleanup Date'] == '09/17/2016'];\n",
    "alltrash16 = alltrash16['all trash num'].sum();\n",
    "\n",
    "alltrash17 = smokebyperc[smokebyperc['Cleanup Date'] == '09/16/2017'];\n",
    "alltrash17 = alltrash17['all trash num'].sum();\n",
    "\n",
    "alltrash18 = smokebyperc[smokebyperc['Cleanup Date'] == '09/22/2018'];\n",
    "alltrash18 = alltrash18['all trash num'].sum();\n",
    "\n",
    "\n",
    "alltrashyeartotals = [alltrash08,alltrash09,alltrash10,alltrash11,alltrash12,alltrash13,alltrash14,alltrash15,alltrash16,alltrash17,alltrash18]\n"
   ]
  },
  {
   "cell_type": "code",
   "execution_count": 28,
   "id": "invisible-services",
   "metadata": {},
   "outputs": [],
   "source": [
    "smokeaspercdf = smoketotalsdf;\n",
    "smokeaspercdf['Total trash items'] = alltrashyeartotals;\n",
    "\n",
    "smokeasperccol = smokeaspercdf['Number Of Smoking Items'] / smokeaspercdf['Total trash items'] * 100\n",
    "smokeaspercdf['Percent items smoke related'] = smokeasperccol;\n"
   ]
  },
  {
   "cell_type": "code",
   "execution_count": 29,
   "id": "quiet-iraqi",
   "metadata": {},
   "outputs": [
    {
     "data": {
      "text/plain": [
       "[<matplotlib.lines.Line2D at 0x1df87a1d760>]"
      ]
     },
     "execution_count": 29,
     "metadata": {},
     "output_type": "execute_result"
    },
    {
     "data": {
      "image/png": "[encoded data removed]",
      "text/plain": [
       "<Figure size 432x288 with 1 Axes>"
      ]
     },
     "metadata": {
      "needs_background": "light"
     },
     "output_type": "display_data"
    }
   ],
   "source": [
    "%matplotlib inline\n",
    "\n",
    "x = smokeaspercdf['Year'];\n",
    "y = smokeaspercdf['Percent items smoke related']\n",
    "\n",
    "model = np.polyfit(x,y,1)\n",
    "\n",
    "predict = np.poly1d(model)\n",
    "x_lin_reg = range(2008,2019)\n",
    "y_lin_reg = predict(x_lin_reg)\n",
    "plt.scatter(x,y);\n",
    "plt.plot(x_lin_reg, y_lin_reg, c = 'r')\n",
    "\n",
    "\n",
    "#Source referenced:\n",
    "#https://data36.com/linear-regression-in-python-numpy-polyfit/\n",
    "    "
   ]
  },
  {
   "cell_type": "code",
   "execution_count": 30,
   "id": "valued-selling",
   "metadata": {},
   "outputs": [
    {
     "data": {
      "text/plain": [
       "35.53458868594521"
      ]
     },
     "execution_count": 30,
     "metadata": {},
     "output_type": "execute_result"
    }
   ],
   "source": [
    "start = 2008;\n",
    "predict(start)"
   ]
  },
  {
   "cell_type": "code",
   "execution_count": 31,
   "id": "removable-figure",
   "metadata": {},
   "outputs": [
    {
     "data": {
      "text/plain": [
       "25.939870021286197"
      ]
     },
     "execution_count": 31,
     "metadata": {},
     "output_type": "execute_result"
    }
   ],
   "source": [
    "end = 2018;\n",
    "predict(end)"
   ]
  },
  {
   "cell_type": "markdown",
   "id": "passing-coating",
   "metadata": {},
   "source": [
    "The regression model shows a decrease in percentage of smoking-related trash from ~35% of items in 2008 to ~26% of items in 2018"
   ]
  },
  {
   "cell_type": "code",
   "execution_count": 32,
   "id": "liked-exclusion",
   "metadata": {},
   "outputs": [
    {
     "name": "stdout",
     "output_type": "stream",
     "text": [
      "Mean absolute error:  5.554562804179552\n",
      "R-squared:  0.17728825650900615\n"
     ]
    }
   ],
   "source": [
    "import sklearn.metrics as metrics\n",
    "yhat = [predict(2008),predict(2009),predict(2010),predict(2011),predict(2012),predict(2013),predict(2014),predict(2015),predict(2016),predict(2017),predict(2018)]\n",
    "\n",
    "mae = metrics.mean_absolute_error(y,yhat);\n",
    "print(\"Mean absolute error: \",mae);\n",
    "\n",
    "r2 = metrics.r2_score(y,yhat);\n",
    "print(\"R-squared: \", r2);"
   ]
  },
  {
   "cell_type": "markdown",
   "id": "acquired-indonesian",
   "metadata": {},
   "source": [
    "R-squared is ~18%, so we have very high variance, so the fit of the model is poor. Given the high variance of the model, it would not be wise to draw any conclusions from this data. There is no clear trend in the percentage of smoking-related items over time\n",
    "\n",
    "Source on r2 value: https://www.knowledgehut.com/blog/data-science/interpret-r-squared-and-goodness-fit-regression-analysis\n"
   ]
  },
  {
   "cell_type": "markdown",
   "id": "polar-internet",
   "metadata": {},
   "source": [
    "## Single Use Plastics\n",
    "\n",
    "### Question: Has the amount of single use plastic recovered at cleanup events decreased over time?\n",
    "\n",
    "I had expected the amount of smoking-related trash to decrease as the rate of smoking decreased, and I planned to use that info to infer that if we reduce our use of single use plastic, we will see less single-use plastic trash recovered at clean ups. However, my findings are still valuable, and unexpected results do not equal failure. The science continues...\n",
    "\n",
    "Now let's look at single use plastics! What is a single-use plastic? It's an item made of plastic which is meant to be disposed of right after use (NRDC). This includes plastic water bottles, plastic grocery bags, plastic takeout containers, plastic packaging for food products, and more. \n",
    "\n",
    "According to earthday.org, \"Single-use-plastics frequently do not make it to a landfill or are recycled. A full 32% of the 78 million tons of plastic packaging produced annually is left to flow into our oceans; the equivalent of pouring one garbage truck fill of plastic into the ocean every minute\" (earthday.org)\n",
    "\n",
    "Why are single use plastics a problem? Because plastic cannot biodegrade; instead it breaks up into lots of tiny pieces called microplastics. According to Nature's Path, \" It can take up to thousands of years for [plastic] to decompose. In the meantime, it contaminates our soil and water. The toxic chemicals used to manufacture plastic get transfered to animal tissue, eventually entering the human food chain... and can damage nervous systems, lungs, and reproductive organs\" \n",
    "\n",
    "Nature's Way also points out that plastic also negatively impacts sea creatures, \"Plastic items like bags and straws choke wildlife and block animals' stomachs\"\n",
    "\n",
    "I am focusing on single use plastics here because they make up such a large portion of all plastics, and they are (by definition) super wasteful. There has been a recent push to ban different single use plastics (See Delaware 2021 plastic bag ban from delaware.gov source below). It is important to get a clear picture of how much single use plastic ends up on our beaches, as this information could help drive more policies like the plastic bag ban.\n",
    "\n",
    "\n",
    "Sources: \n",
    "- https://www.nrdc.org/stories/single-use-plastics-101#what\n",
    "- https://www.earthday.org/fact-sheet-single-use-plastics/\n",
    "- https://www.naturespath.com/en-us/blog/single-use-plastics-bad-can/\n",
    "- https://news.delaware.gov/2020/12/01/plastic-carryout-bag-ban-effective-on-jan-1-2021/\n",
    "\n",
    "Ethics Note: my analysis could be used to assert that individuals are responsible for pollution, rather than corporations. Personally I think that personal actions like using a reusable waterbottle and buying things used rather than new are important and valuable, but placing responsibility exclusively on consumers is definitely problematic."
   ]
  },
  {
   "cell_type": "code",
   "execution_count": 33,
   "id": "unnecessary-integer",
   "metadata": {},
   "outputs": [],
   "source": [
    "singleUsePlastics = [\n",
    "                        'Cigarette Butts',\n",
    "                     'Food Wrappers',\n",
    "                     'Take Out/Away Containers (Plastic)',\n",
    "                     'Take Out/Away Containers (Foam)',\n",
    "                     'Bottle Caps (Plastic)',\n",
    "                     'Lids (Plastic)',\n",
    "                     'Straws, Stirrers',\n",
    "                     'Forks, Knives, Spoons',\n",
    "                     'Beverage Bottles (Plastic)',\n",
    "                     'Grocery Bags (Plastic)',\n",
    "                     'Other Plastic Bags',\n",
    "                     'Cups, Plates (Plastic)',\n",
    "                     'Cups, Plates (Foam)',\n",
    "                     'Other Plastic Bottles',\n",
    "                     'Balloons',\n",
    "                     'Cigar Tips',\n",
    "                     'Tampons/Tampon Applicators'\n",
    "                      ]\n",
    "\n",
    "singleUsePlasticswDate = [ 'Cleanup Date',\n",
    "                        'Cigarette Butts',\n",
    "                     'Food Wrappers',\n",
    "                     'Take Out/Away Containers (Plastic)',\n",
    "                     'Take Out/Away Containers (Foam)',\n",
    "                     'Bottle Caps (Plastic)',\n",
    "                     'Lids (Plastic)',\n",
    "                     'Straws, Stirrers',\n",
    "                     'Forks, Knives, Spoons',\n",
    "                     'Beverage Bottles (Plastic)',\n",
    "                     'Grocery Bags (Plastic)',\n",
    "                     'Other Plastic Bags',\n",
    "                     'Cups, Plates (Plastic)',\n",
    "                     'Cups, Plates (Foam)',\n",
    "                     'Other Plastic Bottles',\n",
    "                     'Balloons',\n",
    "                     'Cigar Tips',\n",
    "                     'Tampons/Tampon Applicators'\n",
    "                      ]\n",
    "\n",
    "#Reference to see if some items (cigarette butts, food wrappers) are considered single use: \n",
    "# https://www.naturespath.com/en-us/blog/single-use-plastics-bad-can/ "
   ]
  },
  {
   "cell_type": "markdown",
   "id": "animated-desktop",
   "metadata": {},
   "source": [
    "#### Ethics Note:\n",
    "\n",
    "Condoms are listed as their own category for the cleanups, and technically they are a single-use plastic, but there are certainly some ethical concerns with discouraging the use of condoms based on them being single use. I will be excluding condoms from my list of single use plastics, both due to ethical concerns and the fact that many condoms are made from plant-based latex (https://en.wikipedia.org/wiki/Latex#Personal_and_healthcare_products)\n"
   ]
  },
  {
   "cell_type": "code",
   "execution_count": 35,
   "id": "indoor-inspection",
   "metadata": {},
   "outputs": [
    {
     "name": "stderr",
     "output_type": "stream",
     "text": [
      "<ipython-input-35-e82b62b7d17d>:4: SettingWithCopyWarning: \n",
      "A value is trying to be set on a copy of a slice from a DataFrame.\n",
      "Try using .loc[row_indexer,col_indexer] = value instead\n",
      "\n",
      "See the caveats in the documentation: https://pandas.pydata.org/pandas-docs/stable/user_guide/indexing.html#returning-a-view-versus-a-copy\n",
      "  sudf['single use total'] = totalsingleuse;\n"
     ]
    }
   ],
   "source": [
    "sudf = df[singleUsePlasticswDate];\n",
    "totalsingleuse = df[singleUsePlastics].sum(axis=1);\n",
    "\n",
    "sudf['single use total'] = totalsingleuse;"
   ]
  },
  {
   "cell_type": "code",
   "execution_count": 37,
   "id": "unexpected-queen",
   "metadata": {},
   "outputs": [
    {
     "name": "stderr",
     "output_type": "stream",
     "text": [
      "<ipython-input-37-a3b5947843f4>:38: SettingWithCopyWarning: \n",
      "A value is trying to be set on a copy of a slice from a DataFrame.\n",
      "Try using .loc[row_indexer,col_indexer] = value instead\n",
      "\n",
      "See the caveats in the documentation: https://pandas.pydata.org/pandas-docs/stable/user_guide/indexing.html#returning-a-view-versus-a-copy\n",
      "  finalsingleusedf['Num Single Use'] = singleuseyeartotals\n"
     ]
    }
   ],
   "source": [
    "finalsingleusedf = smokeaspercdf[['Year', 'Total trash items']];\n",
    "\n",
    "singleuse08 = sudf[sudf['Cleanup Date'] == '09/20/2008'];\n",
    "singleuse08 = singleuse08['single use total'].sum();\n",
    "\n",
    "singleuse09 = sudf[sudf['Cleanup Date'] == '09/19/2009'];\n",
    "singleuse09 = singleuse09['single use total'].sum();\n",
    "\n",
    "singleuse10 = sudf[sudf['Cleanup Date'] == '09/25/2010'];\n",
    "singleuse10 = singleuse10['single use total'].sum();\n",
    "\n",
    "singleuse11 = sudf[sudf['Cleanup Date'] == '09/17/2011'];\n",
    "singleuse11 = singleuse11['single use total'].sum();\n",
    "\n",
    "singleuse12 = sudf[sudf['Cleanup Date'] == '09/15/2012'];\n",
    "singleuse12 = singleuse12['single use total'].sum();\n",
    "\n",
    "singleuse13 = sudf[sudf['Cleanup Date'] == '09/21/2013'];\n",
    "singleuse13 = singleuse13['single use total'].sum();\n",
    "\n",
    "singleuse14 = sudf[sudf['Cleanup Date'] == '09/20/2014'];\n",
    "singleuse14 = singleuse14['single use total'].sum();\n",
    "\n",
    "singleuse15 = sudf[sudf['Cleanup Date'] == '09/19/2015'];\n",
    "singleuse15 = singleuse15['single use total'].sum();\n",
    "\n",
    "singleuse16 = sudf[sudf['Cleanup Date'] == '09/17/2016'];\n",
    "singleuse16 = singleuse16['single use total'].sum();\n",
    "\n",
    "singleuse17 = sudf[sudf['Cleanup Date'] == '09/16/2017'];\n",
    "singleuse17 = singleuse17['single use total'].sum();\n",
    "\n",
    "singleuse18 = sudf[sudf['Cleanup Date'] == '09/22/2018'];\n",
    "singleuse18 = singleuse18['single use total'].sum();\n",
    "\n",
    "singleuseyeartotals = [singleuse08,singleuse09,singleuse10,singleuse11,singleuse12,singleuse13,singleuse14,singleuse15,singleuse16,singleuse17,singleuse18]\n",
    "\n",
    "finalsingleusedf['Num Single Use'] = singleuseyeartotals\n",
    "\n",
    "\n",
    "SupAsPercCol = finalsingleusedf['Num Single Use'] / finalsingleusedf['Total trash items'] * 100\n",
    "finalsingleusedf['Percent items Single Use'] = SupAsPercCol;\n"
   ]
  },
  {
   "cell_type": "markdown",
   "id": "drawn-variety",
   "metadata": {},
   "source": [
    "### Single Use Plastics by Raw Number"
   ]
  },
  {
   "cell_type": "code",
   "execution_count": 44,
   "id": "junior-texture",
   "metadata": {},
   "outputs": [
    {
     "data": {
      "text/plain": [
       "432969.0"
      ]
     },
     "execution_count": 44,
     "metadata": {},
     "output_type": "execute_result"
    }
   ],
   "source": [
    "sum(singleuseyeartotals)"
   ]
  },
  {
   "cell_type": "markdown",
   "id": "religious-nancy",
   "metadata": {},
   "source": [
    "The total number of single-use plastics recovered at the yearly clean up day is 432,969"
   ]
  },
  {
   "cell_type": "code",
   "execution_count": 39,
   "id": "defensive-traveler",
   "metadata": {},
   "outputs": [
    {
     "data": {
      "text/plain": [
       "[<matplotlib.lines.Line2D at 0x1df87ad4f40>]"
      ]
     },
     "execution_count": 39,
     "metadata": {},
     "output_type": "execute_result"
    },
    {
     "data": {
      "image/png": "[encoded data removed]",
      "text/plain": [
       "<Figure size 432x288 with 1 Axes>"
      ]
     },
     "metadata": {
      "needs_background": "light"
     },
     "output_type": "display_data"
    }
   ],
   "source": [
    "%matplotlib inline\n",
    "\n",
    "xsunp = finalsingleusedf['Year'];\n",
    "ysunp = finalsingleusedf['Num Single Use']\n",
    "\n",
    "modelsunp = np.polyfit(xsunp,ysunp,1)\n",
    "\n",
    "predictsunp = np.poly1d(modelsunp)\n",
    "x_lin_reg_sunp = range(2008,2019)\n",
    "y_lin_reg_sunp = predictsunp(x_lin_reg_sunp)\n",
    "plt.scatter(xsunp,ysunp);\n",
    "plt.plot(x_lin_reg_sunp, y_lin_reg_sunp, c = 'r')"
   ]
  },
  {
   "cell_type": "code",
   "execution_count": 40,
   "id": "norman-remedy",
   "metadata": {},
   "outputs": [
    {
     "name": "stdout",
     "output_type": "stream",
     "text": [
      "Mean absolute error:  6194.667768595211\n",
      "R-squared:  0.07600427414586663\n"
     ]
    }
   ],
   "source": [
    "import sklearn.metrics as metrics\n",
    "yhatsunp = [predictsunp(2008),predictsunp(2009),predictsunp(2010),predictsunp(2011),predictsunp(2012),predictsunp(2013),predictsunp(2014),predictsunp(2015),predictsunp(2016),predictsunp(2017),predictsunp(2018)]\n",
    "\n",
    "maesunp = metrics.mean_absolute_error(ysunp,yhatsunp);\n",
    "print(\"Mean absolute error: \",maesunp);\n",
    "\n",
    "r2sunp = metrics.r2_score(ysunp,yhatsunp);\n",
    "print(\"R-squared: \", r2sunp);"
   ]
  },
  {
   "cell_type": "markdown",
   "id": "incredible-prague",
   "metadata": {},
   "source": [
    "R-squared of 76% means that 76% of the data fits the model. This shows that there is a trend of the amount of single use plastic found decreasing."
   ]
  },
  {
   "cell_type": "markdown",
   "id": "aquatic-reset",
   "metadata": {},
   "source": [
    "### Single Use Plastics by Percentage of Items"
   ]
  },
  {
   "cell_type": "code",
   "execution_count": 42,
   "id": "delayed-taxation",
   "metadata": {},
   "outputs": [
    {
     "data": {
      "text/plain": [
       "[<matplotlib.lines.Line2D at 0x1df87b87e20>]"
      ]
     },
     "execution_count": 42,
     "metadata": {},
     "output_type": "execute_result"
    },
    {
     "data": {
      "image/png": "[encoded data removed]",
      "text/plain": [
       "<Figure size 432x288 with 1 Axes>"
      ]
     },
     "metadata": {
      "needs_background": "light"
     },
     "output_type": "display_data"
    }
   ],
   "source": [
    "%matplotlib inline\n",
    "\n",
    "xsu = finalsingleusedf['Year'];\n",
    "ysu = finalsingleusedf['Percent items Single Use']\n",
    "\n",
    "modelsu = np.polyfit(xsu,ysu,1)\n",
    "\n",
    "predictsu = np.poly1d(modelsu)\n",
    "x_lin_reg_su = range(2008,2019)\n",
    "y_lin_reg_su = predictsu(x_lin_reg_su)\n",
    "plt.scatter(xsu,ysu);\n",
    "plt.plot(x_lin_reg_su, y_lin_reg_su, c = 'r')\n",
    "\n",
    "\n",
    "#Source referenced:\n",
    "#https://data36.com/linear-regression-in-python-numpy-polyfit/\n",
    "    "
   ]
  },
  {
   "cell_type": "code",
   "execution_count": 43,
   "id": "realistic-protection",
   "metadata": {},
   "outputs": [
    {
     "name": "stdout",
     "output_type": "stream",
     "text": [
      "Mean absolute error:  2.4978298624459643\n",
      "R-squared:  0.7557168225458155\n"
     ]
    }
   ],
   "source": [
    "import sklearn.metrics as metrics\n",
    "yhatsu = [predictsu(2008),predictsu(2009),predictsu(2010),predictsu(2011),predictsu(2012),predictsu(2013),predictsu(2014),predictsu(2015),predictsu(2016),predictsu(2017),predictsu(2018)]\n",
    "\n",
    "maesu = metrics.mean_absolute_error(ysu,yhatsu);\n",
    "print(\"Mean absolute error: \",maesu);\n",
    "\n",
    "r2su = metrics.r2_score(ysu,yhatsu);\n",
    "print(\"R-squared: \", r2su);"
   ]
  },
  {
   "cell_type": "markdown",
   "id": "institutional-concept",
   "metadata": {},
   "source": [
    "R-squared of 75% means that most of the data fits the model, showing a strong trend of the percentage of single use plastics found at clean ups decreasing. \n",
    "\n",
    "## Conclusion\n",
    "Though my analysis of smoking-related items did not go as planned, I still learned a lot. I was surprised that smoking-related items account for 20 to 40 percent of all items recovered at cleanups. (Note, this is by count of items, not volume or weight, which may be more useful measures). This shows that smoking-related trash is a serious issue for the environment. Potential solutions would be to decrease the smoking rate, which would have both health and environmental benefits. Another thing that could help would be to make sure there are trash cans accessible in areas where people smoke, to make it more convenient to properly dispose of smoking-related trash, so that it doesn't end up in the waterways. \n",
    "\n",
    "Regarding single use plastics, I am encouraged by my findings. The fact that both the number and percent of single use plastic items are decreasing over time could mean that consumer habits are changing, and that there are less single use plastics in our environment. I think this finding could also be used to support the effectiveness of policies like the bag ban in Delaware. \n",
    "\n",
    "Additionally, the fact that over 400,000 pieces of single use plastic have been recovered from just 11 individual cleanup days is disturbing, but hopefully shows people that using single use plastics has serious implications. Ideally, this information could be used to support more anti-single-use-plastic legislation.\n",
    "\n",
    "## Important Considerations:\n",
    "\"When a measure becomes a target, it ceases to be a good measure\" (https://en.wikipedia.org/wiki/Goodhart%27s_law)\n",
    "\n",
    "It is important to note that the goal of a cleanup is to remove as much trash from the environment as possible, so high numbers of items recovered is a successful cleanup. We should not aim for no plastic being recovered at a cleanup - that could mean no clean ups altogether, and even more plastic in the waterways and surrounding areas. "
   ]
  },
  {
   "cell_type": "code",
   "execution_count": null,
   "id": "drawn-chuck",
   "metadata": {},
   "outputs": [],
   "source": []
  }
 ],
 "metadata": {
  "kernelspec": {
   "display_name": "Python 3",
   "language": "python",
   "name": "python3"
  },
  "language_info": {
   "codemirror_mode": {
    "name": "ipython",
    "version": 3
   },
   "file_extension": ".py",
   "mimetype": "text/x-python",
   "name": "python",
   "nbconvert_exporter": "python",
   "pygments_lexer": "ipython3",
   "version": "3.9.1"
  }
 },
 "nbformat": 4,
 "nbformat_minor": 5
}
